{
 "cells": [
  {
   "cell_type": "code",
   "execution_count": 1,
   "id": "94342736",
   "metadata": {},
   "outputs": [],
   "source": [
    "# Preparacion\n",
    "import matplotlib\n",
    "import matplotlib.pyplot as plt\n",
    "import pandas as pd"
   ]
  },
  {
   "cell_type": "code",
   "execution_count": 2,
   "id": "dc53f375",
   "metadata": {},
   "outputs": [
    {
     "data": {
      "application/vnd.microsoft.datawrangler.viewer.v0+json": {
       "columns": [
        {
         "name": "index",
         "rawType": "int64",
         "type": "integer"
        },
        {
         "name": "driverId",
         "rawType": "int64",
         "type": "integer"
        },
        {
         "name": "name",
         "rawType": "object",
         "type": "string"
        },
        {
         "name": "ssn",
         "rawType": "int64",
         "type": "integer"
        },
        {
         "name": "location",
         "rawType": "object",
         "type": "string"
        },
        {
         "name": "certified",
         "rawType": "object",
         "type": "string"
        },
        {
         "name": "wage-plan",
         "rawType": "object",
         "type": "string"
        }
       ],
       "ref": "24116da9-1656-4280-84b7-2e8ed1d57b17",
       "rows": [
        [
         "0",
         "10",
         "George Vetticaden",
         "621011971",
         "244-4532 Nulla Rd.",
         "N",
         "miles"
        ],
        [
         "1",
         "11",
         "Jamie Engesser",
         "262112338",
         "366-4125 Ac Street",
         "N",
         "miles"
        ],
        [
         "2",
         "12",
         "Paul Coddin",
         "198041975",
         "Ap #622-957 Risus. Street",
         "Y",
         "hours"
        ],
        [
         "3",
         "13",
         "Joe Niemiec",
         "139907145",
         "2071 Hendrerit. Ave",
         "Y",
         "hours"
        ],
        [
         "4",
         "14",
         "Adis Cesir",
         "820812209",
         "Ap #810-1228 In St.",
         "Y",
         "hours"
        ]
       ],
       "shape": {
        "columns": 6,
        "rows": 5
       }
      },
      "text/html": [
       "<div>\n",
       "<style scoped>\n",
       "    .dataframe tbody tr th:only-of-type {\n",
       "        vertical-align: middle;\n",
       "    }\n",
       "\n",
       "    .dataframe tbody tr th {\n",
       "        vertical-align: top;\n",
       "    }\n",
       "\n",
       "    .dataframe thead th {\n",
       "        text-align: right;\n",
       "    }\n",
       "</style>\n",
       "<table border=\"1\" class=\"dataframe\">\n",
       "  <thead>\n",
       "    <tr style=\"text-align: right;\">\n",
       "      <th></th>\n",
       "      <th>driverId</th>\n",
       "      <th>name</th>\n",
       "      <th>ssn</th>\n",
       "      <th>location</th>\n",
       "      <th>certified</th>\n",
       "      <th>wage-plan</th>\n",
       "    </tr>\n",
       "  </thead>\n",
       "  <tbody>\n",
       "    <tr>\n",
       "      <th>0</th>\n",
       "      <td>10</td>\n",
       "      <td>George Vetticaden</td>\n",
       "      <td>621011971</td>\n",
       "      <td>244-4532 Nulla Rd.</td>\n",
       "      <td>N</td>\n",
       "      <td>miles</td>\n",
       "    </tr>\n",
       "    <tr>\n",
       "      <th>1</th>\n",
       "      <td>11</td>\n",
       "      <td>Jamie Engesser</td>\n",
       "      <td>262112338</td>\n",
       "      <td>366-4125 Ac Street</td>\n",
       "      <td>N</td>\n",
       "      <td>miles</td>\n",
       "    </tr>\n",
       "    <tr>\n",
       "      <th>2</th>\n",
       "      <td>12</td>\n",
       "      <td>Paul Coddin</td>\n",
       "      <td>198041975</td>\n",
       "      <td>Ap #622-957 Risus. Street</td>\n",
       "      <td>Y</td>\n",
       "      <td>hours</td>\n",
       "    </tr>\n",
       "    <tr>\n",
       "      <th>3</th>\n",
       "      <td>13</td>\n",
       "      <td>Joe Niemiec</td>\n",
       "      <td>139907145</td>\n",
       "      <td>2071 Hendrerit. Ave</td>\n",
       "      <td>Y</td>\n",
       "      <td>hours</td>\n",
       "    </tr>\n",
       "    <tr>\n",
       "      <th>4</th>\n",
       "      <td>14</td>\n",
       "      <td>Adis Cesir</td>\n",
       "      <td>820812209</td>\n",
       "      <td>Ap #810-1228 In St.</td>\n",
       "      <td>Y</td>\n",
       "      <td>hours</td>\n",
       "    </tr>\n",
       "  </tbody>\n",
       "</table>\n",
       "</div>"
      ],
      "text/plain": [
       "   driverId               name        ssn                   location  \\\n",
       "0        10  George Vetticaden  621011971         244-4532 Nulla Rd.   \n",
       "1        11     Jamie Engesser  262112338         366-4125 Ac Street   \n",
       "2        12        Paul Coddin  198041975  Ap #622-957 Risus. Street   \n",
       "3        13        Joe Niemiec  139907145        2071 Hendrerit. Ave   \n",
       "4        14         Adis Cesir  820812209        Ap #810-1228 In St.   \n",
       "\n",
       "  certified wage-plan  \n",
       "0         N     miles  \n",
       "1         N     miles  \n",
       "2         Y     hours  \n",
       "3         Y     hours  \n",
       "4         Y     hours  "
      ]
     },
     "execution_count": 2,
     "metadata": {},
     "output_type": "execute_result"
    }
   ],
   "source": [
    "# Carga de la tabla drivers\n",
    "drivers = pd.read_csv(\n",
    "    \"../files/input/drivers.csv\",\n",
    "    sep=\",\",\n",
    "    thousands=None,\n",
    "    decimal=\".\",\n",
    ")\n",
    "drivers.head()\n"
   ]
  },
  {
   "cell_type": "code",
   "execution_count": 3,
   "id": "737d99d5",
   "metadata": {},
   "outputs": [
    {
     "data": {
      "application/vnd.microsoft.datawrangler.viewer.v0+json": {
       "columns": [
        {
         "name": "index",
         "rawType": "int64",
         "type": "integer"
        },
        {
         "name": "driverId",
         "rawType": "int64",
         "type": "integer"
        },
        {
         "name": "week",
         "rawType": "int64",
         "type": "integer"
        },
        {
         "name": "hours-logged",
         "rawType": "int64",
         "type": "integer"
        },
        {
         "name": "miles-logged",
         "rawType": "int64",
         "type": "integer"
        }
       ],
       "ref": "6b096da4-6372-4a71-af0f-a724ee55696b",
       "rows": [
        [
         "0",
         "10",
         "1",
         "70",
         "3300"
        ],
        [
         "1",
         "10",
         "2",
         "70",
         "3300"
        ],
        [
         "2",
         "10",
         "3",
         "60",
         "2800"
        ],
        [
         "3",
         "10",
         "4",
         "70",
         "3100"
        ],
        [
         "4",
         "10",
         "5",
         "70",
         "3200"
        ]
       ],
       "shape": {
        "columns": 4,
        "rows": 5
       }
      },
      "text/html": [
       "<div>\n",
       "<style scoped>\n",
       "    .dataframe tbody tr th:only-of-type {\n",
       "        vertical-align: middle;\n",
       "    }\n",
       "\n",
       "    .dataframe tbody tr th {\n",
       "        vertical-align: top;\n",
       "    }\n",
       "\n",
       "    .dataframe thead th {\n",
       "        text-align: right;\n",
       "    }\n",
       "</style>\n",
       "<table border=\"1\" class=\"dataframe\">\n",
       "  <thead>\n",
       "    <tr style=\"text-align: right;\">\n",
       "      <th></th>\n",
       "      <th>driverId</th>\n",
       "      <th>week</th>\n",
       "      <th>hours-logged</th>\n",
       "      <th>miles-logged</th>\n",
       "    </tr>\n",
       "  </thead>\n",
       "  <tbody>\n",
       "    <tr>\n",
       "      <th>0</th>\n",
       "      <td>10</td>\n",
       "      <td>1</td>\n",
       "      <td>70</td>\n",
       "      <td>3300</td>\n",
       "    </tr>\n",
       "    <tr>\n",
       "      <th>1</th>\n",
       "      <td>10</td>\n",
       "      <td>2</td>\n",
       "      <td>70</td>\n",
       "      <td>3300</td>\n",
       "    </tr>\n",
       "    <tr>\n",
       "      <th>2</th>\n",
       "      <td>10</td>\n",
       "      <td>3</td>\n",
       "      <td>60</td>\n",
       "      <td>2800</td>\n",
       "    </tr>\n",
       "    <tr>\n",
       "      <th>3</th>\n",
       "      <td>10</td>\n",
       "      <td>4</td>\n",
       "      <td>70</td>\n",
       "      <td>3100</td>\n",
       "    </tr>\n",
       "    <tr>\n",
       "      <th>4</th>\n",
       "      <td>10</td>\n",
       "      <td>5</td>\n",
       "      <td>70</td>\n",
       "      <td>3200</td>\n",
       "    </tr>\n",
       "  </tbody>\n",
       "</table>\n",
       "</div>"
      ],
      "text/plain": [
       "   driverId  week  hours-logged  miles-logged\n",
       "0        10     1            70          3300\n",
       "1        10     2            70          3300\n",
       "2        10     3            60          2800\n",
       "3        10     4            70          3100\n",
       "4        10     5            70          3200"
      ]
     },
     "execution_count": 3,
     "metadata": {},
     "output_type": "execute_result"
    }
   ],
   "source": [
    "# Carga de la tabla timesheet\n",
    "timesheet = pd.read_csv(\n",
    "    \"../files/input/timesheet.csv\",\n",
    "    sep=\",\",\n",
    "    thousands=None,\n",
    "    decimal=\".\",\n",
    ")\n",
    "timesheet.head()\n"
   ]
  },
  {
   "cell_type": "code",
   "execution_count": 4,
   "id": "3204ed86",
   "metadata": {},
   "outputs": [
    {
     "data": {
      "application/vnd.microsoft.datawrangler.viewer.v0+json": {
       "columns": [
        {
         "name": "driverId",
         "rawType": "int64",
         "type": "integer"
        },
        {
         "name": "week",
         "rawType": "float64",
         "type": "float"
        },
        {
         "name": "hours-logged",
         "rawType": "float64",
         "type": "float"
        },
        {
         "name": "miles-logged",
         "rawType": "float64",
         "type": "float"
        }
       ],
       "ref": "f64104e9-a685-4fe3-abf6-218e1ecfe01c",
       "rows": [
        [
         "10",
         "26.5",
         "62.15384615384615",
         "2829.8076923076924"
        ],
        [
         "11",
         "26.5",
         "70.03846153846153",
         "3448.076923076923"
        ],
        [
         "12",
         "26.5",
         "50.75",
         "2614.653846153846"
        ],
        [
         "13",
         "26.5",
         "52.44230769230769",
         "2579.346153846154"
        ],
        [
         "14",
         "26.5",
         "53.48076923076923",
         "2627.3846153846152"
        ]
       ],
       "shape": {
        "columns": 3,
        "rows": 5
       }
      },
      "text/html": [
       "<div>\n",
       "<style scoped>\n",
       "    .dataframe tbody tr th:only-of-type {\n",
       "        vertical-align: middle;\n",
       "    }\n",
       "\n",
       "    .dataframe tbody tr th {\n",
       "        vertical-align: top;\n",
       "    }\n",
       "\n",
       "    .dataframe thead th {\n",
       "        text-align: right;\n",
       "    }\n",
       "</style>\n",
       "<table border=\"1\" class=\"dataframe\">\n",
       "  <thead>\n",
       "    <tr style=\"text-align: right;\">\n",
       "      <th></th>\n",
       "      <th>week</th>\n",
       "      <th>hours-logged</th>\n",
       "      <th>miles-logged</th>\n",
       "    </tr>\n",
       "    <tr>\n",
       "      <th>driverId</th>\n",
       "      <th></th>\n",
       "      <th></th>\n",
       "      <th></th>\n",
       "    </tr>\n",
       "  </thead>\n",
       "  <tbody>\n",
       "    <tr>\n",
       "      <th>10</th>\n",
       "      <td>26.5</td>\n",
       "      <td>62.153846</td>\n",
       "      <td>2829.807692</td>\n",
       "    </tr>\n",
       "    <tr>\n",
       "      <th>11</th>\n",
       "      <td>26.5</td>\n",
       "      <td>70.038462</td>\n",
       "      <td>3448.076923</td>\n",
       "    </tr>\n",
       "    <tr>\n",
       "      <th>12</th>\n",
       "      <td>26.5</td>\n",
       "      <td>50.750000</td>\n",
       "      <td>2614.653846</td>\n",
       "    </tr>\n",
       "    <tr>\n",
       "      <th>13</th>\n",
       "      <td>26.5</td>\n",
       "      <td>52.442308</td>\n",
       "      <td>2579.346154</td>\n",
       "    </tr>\n",
       "    <tr>\n",
       "      <th>14</th>\n",
       "      <td>26.5</td>\n",
       "      <td>53.480769</td>\n",
       "      <td>2627.384615</td>\n",
       "    </tr>\n",
       "  </tbody>\n",
       "</table>\n",
       "</div>"
      ],
      "text/plain": [
       "          week  hours-logged  miles-logged\n",
       "driverId                                  \n",
       "10        26.5     62.153846   2829.807692\n",
       "11        26.5     70.038462   3448.076923\n",
       "12        26.5     50.750000   2614.653846\n",
       "13        26.5     52.442308   2579.346154\n",
       "14        26.5     53.480769   2627.384615"
      ]
     },
     "execution_count": 4,
     "metadata": {},
     "output_type": "execute_result"
    }
   ],
   "source": [
    "# Media de la cantidad de horas y millas de cada conductor por año\n",
    "mean_timesheet = timesheet.groupby(\"driverId\").mean()\n",
    "mean_timesheet.head()"
   ]
  },
  {
   "cell_type": "code",
   "execution_count": 5,
   "id": "f7b9ebcc",
   "metadata": {},
   "outputs": [
    {
     "data": {
      "application/vnd.microsoft.datawrangler.viewer.v0+json": {
       "columns": [
        {
         "name": "driverId",
         "rawType": "int64",
         "type": "integer"
        },
        {
         "name": "hours-logged",
         "rawType": "float64",
         "type": "float"
        },
        {
         "name": "miles-logged",
         "rawType": "float64",
         "type": "float"
        }
       ],
       "ref": "acf0a240-8da1-420d-948f-b65aa1d2abf9",
       "rows": [
        [
         "10",
         "62.15384615384615",
         "2829.8076923076924"
        ],
        [
         "11",
         "70.03846153846153",
         "3448.076923076923"
        ],
        [
         "12",
         "50.75",
         "2614.653846153846"
        ],
        [
         "13",
         "52.44230769230769",
         "2579.346153846154"
        ],
        [
         "14",
         "53.48076923076923",
         "2627.3846153846152"
        ]
       ],
       "shape": {
        "columns": 2,
        "rows": 5
       }
      },
      "text/html": [
       "<div>\n",
       "<style scoped>\n",
       "    .dataframe tbody tr th:only-of-type {\n",
       "        vertical-align: middle;\n",
       "    }\n",
       "\n",
       "    .dataframe tbody tr th {\n",
       "        vertical-align: top;\n",
       "    }\n",
       "\n",
       "    .dataframe thead th {\n",
       "        text-align: right;\n",
       "    }\n",
       "</style>\n",
       "<table border=\"1\" class=\"dataframe\">\n",
       "  <thead>\n",
       "    <tr style=\"text-align: right;\">\n",
       "      <th></th>\n",
       "      <th>hours-logged</th>\n",
       "      <th>miles-logged</th>\n",
       "    </tr>\n",
       "    <tr>\n",
       "      <th>driverId</th>\n",
       "      <th></th>\n",
       "      <th></th>\n",
       "    </tr>\n",
       "  </thead>\n",
       "  <tbody>\n",
       "    <tr>\n",
       "      <th>10</th>\n",
       "      <td>62.153846</td>\n",
       "      <td>2829.807692</td>\n",
       "    </tr>\n",
       "    <tr>\n",
       "      <th>11</th>\n",
       "      <td>70.038462</td>\n",
       "      <td>3448.076923</td>\n",
       "    </tr>\n",
       "    <tr>\n",
       "      <th>12</th>\n",
       "      <td>50.750000</td>\n",
       "      <td>2614.653846</td>\n",
       "    </tr>\n",
       "    <tr>\n",
       "      <th>13</th>\n",
       "      <td>52.442308</td>\n",
       "      <td>2579.346154</td>\n",
       "    </tr>\n",
       "    <tr>\n",
       "      <th>14</th>\n",
       "      <td>53.480769</td>\n",
       "      <td>2627.384615</td>\n",
       "    </tr>\n",
       "  </tbody>\n",
       "</table>\n",
       "</div>"
      ],
      "text/plain": [
       "          hours-logged  miles-logged\n",
       "driverId                            \n",
       "10           62.153846   2829.807692\n",
       "11           70.038462   3448.076923\n",
       "12           50.750000   2614.653846\n",
       "13           52.442308   2579.346154\n",
       "14           53.480769   2627.384615"
      ]
     },
     "execution_count": 5,
     "metadata": {},
     "output_type": "execute_result"
    }
   ],
   "source": [
    "# Eliminación de la columna 'week'\n",
    "mean_timesheet.pop(\"week\")\n",
    "mean_timesheet.head()"
   ]
  },
  {
   "cell_type": "code",
   "execution_count": 6,
   "id": "34335196",
   "metadata": {},
   "outputs": [
    {
     "data": {
      "application/vnd.microsoft.datawrangler.viewer.v0+json": {
       "columns": [
        {
         "name": "index",
         "rawType": "int64",
         "type": "integer"
        },
        {
         "name": "hours-logged",
         "rawType": "float64",
         "type": "float"
        }
       ],
       "ref": "a31e5e0f-9ba6-4a21-98fd-132ce842189d",
       "rows": [
        [
         "0",
         "62.15384615384615"
        ],
        [
         "1",
         "62.15384615384615"
        ],
        [
         "2",
         "62.15384615384615"
        ],
        [
         "3",
         "62.15384615384615"
        ],
        [
         "4",
         "62.15384615384615"
        ]
       ],
       "shape": {
        "columns": 1,
        "rows": 5
       }
      },
      "text/plain": [
       "0    62.153846\n",
       "1    62.153846\n",
       "2    62.153846\n",
       "3    62.153846\n",
       "4    62.153846\n",
       "Name: hours-logged, dtype: float64"
      ]
     },
     "execution_count": 6,
     "metadata": {},
     "output_type": "execute_result"
    }
   ],
   "source": [
    "mean_hours_logged_by_driver = timesheet.groupby(\"driverId\")[\"hours-logged\"].transform(\n",
    "    \"mean\"\n",
    ")\n",
    "mean_hours_logged_by_driver.head()"
   ]
  },
  {
   "cell_type": "code",
   "execution_count": 7,
   "id": "1304152c",
   "metadata": {},
   "outputs": [
    {
     "data": {
      "application/vnd.microsoft.datawrangler.viewer.v0+json": {
       "columns": [
        {
         "name": "index",
         "rawType": "int64",
         "type": "integer"
        },
        {
         "name": "driverId",
         "rawType": "int64",
         "type": "integer"
        },
        {
         "name": "week",
         "rawType": "int64",
         "type": "integer"
        },
        {
         "name": "hours-logged",
         "rawType": "int64",
         "type": "integer"
        },
        {
         "name": "miles-logged",
         "rawType": "int64",
         "type": "integer"
        },
        {
         "name": "mean_hours-logged",
         "rawType": "float64",
         "type": "float"
        }
       ],
       "ref": "fc52e58e-86ad-4767-b870-c161f68265c0",
       "rows": [
        [
         "0",
         "10",
         "1",
         "70",
         "3300",
         "62.15384615384615"
        ],
        [
         "1",
         "10",
         "2",
         "70",
         "3300",
         "62.15384615384615"
        ],
        [
         "2",
         "10",
         "3",
         "60",
         "2800",
         "62.15384615384615"
        ],
        [
         "3",
         "10",
         "4",
         "70",
         "3100",
         "62.15384615384615"
        ],
        [
         "4",
         "10",
         "5",
         "70",
         "3200",
         "62.15384615384615"
        ]
       ],
       "shape": {
        "columns": 5,
        "rows": 5
       }
      },
      "text/html": [
       "<div>\n",
       "<style scoped>\n",
       "    .dataframe tbody tr th:only-of-type {\n",
       "        vertical-align: middle;\n",
       "    }\n",
       "\n",
       "    .dataframe tbody tr th {\n",
       "        vertical-align: top;\n",
       "    }\n",
       "\n",
       "    .dataframe thead th {\n",
       "        text-align: right;\n",
       "    }\n",
       "</style>\n",
       "<table border=\"1\" class=\"dataframe\">\n",
       "  <thead>\n",
       "    <tr style=\"text-align: right;\">\n",
       "      <th></th>\n",
       "      <th>driverId</th>\n",
       "      <th>week</th>\n",
       "      <th>hours-logged</th>\n",
       "      <th>miles-logged</th>\n",
       "      <th>mean_hours-logged</th>\n",
       "    </tr>\n",
       "  </thead>\n",
       "  <tbody>\n",
       "    <tr>\n",
       "      <th>0</th>\n",
       "      <td>10</td>\n",
       "      <td>1</td>\n",
       "      <td>70</td>\n",
       "      <td>3300</td>\n",
       "      <td>62.153846</td>\n",
       "    </tr>\n",
       "    <tr>\n",
       "      <th>1</th>\n",
       "      <td>10</td>\n",
       "      <td>2</td>\n",
       "      <td>70</td>\n",
       "      <td>3300</td>\n",
       "      <td>62.153846</td>\n",
       "    </tr>\n",
       "    <tr>\n",
       "      <th>2</th>\n",
       "      <td>10</td>\n",
       "      <td>3</td>\n",
       "      <td>60</td>\n",
       "      <td>2800</td>\n",
       "      <td>62.153846</td>\n",
       "    </tr>\n",
       "    <tr>\n",
       "      <th>3</th>\n",
       "      <td>10</td>\n",
       "      <td>4</td>\n",
       "      <td>70</td>\n",
       "      <td>3100</td>\n",
       "      <td>62.153846</td>\n",
       "    </tr>\n",
       "    <tr>\n",
       "      <th>4</th>\n",
       "      <td>10</td>\n",
       "      <td>5</td>\n",
       "      <td>70</td>\n",
       "      <td>3200</td>\n",
       "      <td>62.153846</td>\n",
       "    </tr>\n",
       "  </tbody>\n",
       "</table>\n",
       "</div>"
      ],
      "text/plain": [
       "   driverId  week  hours-logged  miles-logged  mean_hours-logged\n",
       "0        10     1            70          3300          62.153846\n",
       "1        10     2            70          3300          62.153846\n",
       "2        10     3            60          2800          62.153846\n",
       "3        10     4            70          3100          62.153846\n",
       "4        10     5            70          3200          62.153846"
      ]
     },
     "execution_count": 7,
     "metadata": {},
     "output_type": "execute_result"
    }
   ],
   "source": [
    "timesheet_with_means = timesheet.copy()\n",
    "timesheet_with_means[\"mean_hours-logged\"] = mean_hours_logged_by_driver\n",
    "timesheet_with_means.head()"
   ]
  },
  {
   "cell_type": "code",
   "execution_count": 8,
   "id": "89388292",
   "metadata": {},
   "outputs": [
    {
     "data": {
      "application/vnd.microsoft.datawrangler.viewer.v0+json": {
       "columns": [
        {
         "name": "index",
         "rawType": "int64",
         "type": "integer"
        },
        {
         "name": "driverId",
         "rawType": "int64",
         "type": "integer"
        },
        {
         "name": "week",
         "rawType": "int64",
         "type": "integer"
        },
        {
         "name": "hours-logged",
         "rawType": "int64",
         "type": "integer"
        },
        {
         "name": "miles-logged",
         "rawType": "int64",
         "type": "integer"
        },
        {
         "name": "mean_hours-logged",
         "rawType": "float64",
         "type": "float"
        }
       ],
       "ref": "1dc03857-c319-4196-81a7-8fa72ac54ab6",
       "rows": [
        [
         "2",
         "10",
         "3",
         "60",
         "2800",
         "62.15384615384615"
        ],
        [
         "9",
         "10",
         "10",
         "50",
         "2500",
         "62.15384615384615"
        ],
        [
         "19",
         "10",
         "20",
         "30",
         "1200",
         "62.15384615384615"
        ],
        [
         "20",
         "10",
         "21",
         "50",
         "2500",
         "62.15384615384615"
        ],
        [
         "25",
         "10",
         "26",
         "60",
         "2600",
         "62.15384615384615"
        ]
       ],
       "shape": {
        "columns": 5,
        "rows": 5
       }
      },
      "text/html": [
       "<div>\n",
       "<style scoped>\n",
       "    .dataframe tbody tr th:only-of-type {\n",
       "        vertical-align: middle;\n",
       "    }\n",
       "\n",
       "    .dataframe tbody tr th {\n",
       "        vertical-align: top;\n",
       "    }\n",
       "\n",
       "    .dataframe thead th {\n",
       "        text-align: right;\n",
       "    }\n",
       "</style>\n",
       "<table border=\"1\" class=\"dataframe\">\n",
       "  <thead>\n",
       "    <tr style=\"text-align: right;\">\n",
       "      <th></th>\n",
       "      <th>driverId</th>\n",
       "      <th>week</th>\n",
       "      <th>hours-logged</th>\n",
       "      <th>miles-logged</th>\n",
       "      <th>mean_hours-logged</th>\n",
       "    </tr>\n",
       "  </thead>\n",
       "  <tbody>\n",
       "    <tr>\n",
       "      <th>2</th>\n",
       "      <td>10</td>\n",
       "      <td>3</td>\n",
       "      <td>60</td>\n",
       "      <td>2800</td>\n",
       "      <td>62.153846</td>\n",
       "    </tr>\n",
       "    <tr>\n",
       "      <th>9</th>\n",
       "      <td>10</td>\n",
       "      <td>10</td>\n",
       "      <td>50</td>\n",
       "      <td>2500</td>\n",
       "      <td>62.153846</td>\n",
       "    </tr>\n",
       "    <tr>\n",
       "      <th>19</th>\n",
       "      <td>10</td>\n",
       "      <td>20</td>\n",
       "      <td>30</td>\n",
       "      <td>1200</td>\n",
       "      <td>62.153846</td>\n",
       "    </tr>\n",
       "    <tr>\n",
       "      <th>20</th>\n",
       "      <td>10</td>\n",
       "      <td>21</td>\n",
       "      <td>50</td>\n",
       "      <td>2500</td>\n",
       "      <td>62.153846</td>\n",
       "    </tr>\n",
       "    <tr>\n",
       "      <th>25</th>\n",
       "      <td>10</td>\n",
       "      <td>26</td>\n",
       "      <td>60</td>\n",
       "      <td>2600</td>\n",
       "      <td>62.153846</td>\n",
       "    </tr>\n",
       "  </tbody>\n",
       "</table>\n",
       "</div>"
      ],
      "text/plain": [
       "    driverId  week  hours-logged  miles-logged  mean_hours-logged\n",
       "2         10     3            60          2800          62.153846\n",
       "9         10    10            50          2500          62.153846\n",
       "19        10    20            30          1200          62.153846\n",
       "20        10    21            50          2500          62.153846\n",
       "25        10    26            60          2600          62.153846"
      ]
     },
     "metadata": {},
     "output_type": "display_data"
    },
    {
     "data": {
      "application/vnd.microsoft.datawrangler.viewer.v0+json": {
       "columns": [
        {
         "name": "index",
         "rawType": "int64",
         "type": "integer"
        },
        {
         "name": "driverId",
         "rawType": "int64",
         "type": "integer"
        },
        {
         "name": "week",
         "rawType": "int64",
         "type": "integer"
        },
        {
         "name": "hours-logged",
         "rawType": "int64",
         "type": "integer"
        },
        {
         "name": "miles-logged",
         "rawType": "int64",
         "type": "integer"
        },
        {
         "name": "mean_hours-logged",
         "rawType": "float64",
         "type": "float"
        }
       ],
       "ref": "317d9568-d8d0-454f-9ca6-e49b783406aa",
       "rows": [
        [
         "1756",
         "43",
         "41",
         "51",
         "2701",
         "52.88461538461539"
        ],
        [
         "1760",
         "43",
         "45",
         "46",
         "2671",
         "52.88461538461539"
        ],
        [
         "1762",
         "43",
         "47",
         "50",
         "2572",
         "52.88461538461539"
        ],
        [
         "1763",
         "43",
         "48",
         "52",
         "2517",
         "52.88461538461539"
        ],
        [
         "1767",
         "43",
         "52",
         "48",
         "2764",
         "52.88461538461539"
        ]
       ],
       "shape": {
        "columns": 5,
        "rows": 5
       }
      },
      "text/html": [
       "<div>\n",
       "<style scoped>\n",
       "    .dataframe tbody tr th:only-of-type {\n",
       "        vertical-align: middle;\n",
       "    }\n",
       "\n",
       "    .dataframe tbody tr th {\n",
       "        vertical-align: top;\n",
       "    }\n",
       "\n",
       "    .dataframe thead th {\n",
       "        text-align: right;\n",
       "    }\n",
       "</style>\n",
       "<table border=\"1\" class=\"dataframe\">\n",
       "  <thead>\n",
       "    <tr style=\"text-align: right;\">\n",
       "      <th></th>\n",
       "      <th>driverId</th>\n",
       "      <th>week</th>\n",
       "      <th>hours-logged</th>\n",
       "      <th>miles-logged</th>\n",
       "      <th>mean_hours-logged</th>\n",
       "    </tr>\n",
       "  </thead>\n",
       "  <tbody>\n",
       "    <tr>\n",
       "      <th>1756</th>\n",
       "      <td>43</td>\n",
       "      <td>41</td>\n",
       "      <td>51</td>\n",
       "      <td>2701</td>\n",
       "      <td>52.884615</td>\n",
       "    </tr>\n",
       "    <tr>\n",
       "      <th>1760</th>\n",
       "      <td>43</td>\n",
       "      <td>45</td>\n",
       "      <td>46</td>\n",
       "      <td>2671</td>\n",
       "      <td>52.884615</td>\n",
       "    </tr>\n",
       "    <tr>\n",
       "      <th>1762</th>\n",
       "      <td>43</td>\n",
       "      <td>47</td>\n",
       "      <td>50</td>\n",
       "      <td>2572</td>\n",
       "      <td>52.884615</td>\n",
       "    </tr>\n",
       "    <tr>\n",
       "      <th>1763</th>\n",
       "      <td>43</td>\n",
       "      <td>48</td>\n",
       "      <td>52</td>\n",
       "      <td>2517</td>\n",
       "      <td>52.884615</td>\n",
       "    </tr>\n",
       "    <tr>\n",
       "      <th>1767</th>\n",
       "      <td>43</td>\n",
       "      <td>52</td>\n",
       "      <td>48</td>\n",
       "      <td>2764</td>\n",
       "      <td>52.884615</td>\n",
       "    </tr>\n",
       "  </tbody>\n",
       "</table>\n",
       "</div>"
      ],
      "text/plain": [
       "      driverId  week  hours-logged  miles-logged  mean_hours-logged\n",
       "1756        43    41            51          2701          52.884615\n",
       "1760        43    45            46          2671          52.884615\n",
       "1762        43    47            50          2572          52.884615\n",
       "1763        43    48            52          2517          52.884615\n",
       "1767        43    52            48          2764          52.884615"
      ]
     },
     "metadata": {},
     "output_type": "display_data"
    }
   ],
   "source": [
    "timesheet_below = timesheet_with_means[\n",
    "    timesheet_with_means[\"hours-logged\"] < timesheet_with_means[\"mean_hours-logged\"]\n",
    "]\n",
    "display(timesheet_below.head(), timesheet_below.tail())"
   ]
  },
  {
   "cell_type": "code",
   "execution_count": 9,
   "id": "7897fdbc",
   "metadata": {},
   "outputs": [
    {
     "data": {
      "application/vnd.microsoft.datawrangler.viewer.v0+json": {
       "columns": [
        {
         "name": "driverId",
         "rawType": "int64",
         "type": "integer"
        },
        {
         "name": "week",
         "rawType": "int64",
         "type": "integer"
        },
        {
         "name": "hours-logged",
         "rawType": "int64",
         "type": "integer"
        },
        {
         "name": "miles-logged",
         "rawType": "int64",
         "type": "integer"
        }
       ],
       "ref": "d0fc0f9b-e147-47e6-814d-a8658f9aaf64",
       "rows": [
        [
         "10",
         "1378",
         "3232",
         "147150"
        ],
        [
         "11",
         "1378",
         "3642",
         "179300"
        ],
        [
         "12",
         "1378",
         "2639",
         "135962"
        ],
        [
         "13",
         "1378",
         "2727",
         "134126"
        ],
        [
         "14",
         "1378",
         "2781",
         "136624"
        ],
        [
         "15",
         "1378",
         "2734",
         "138750"
        ],
        [
         "16",
         "1378",
         "2746",
         "137205"
        ],
        [
         "17",
         "1378",
         "2701",
         "135992"
        ],
        [
         "18",
         "1378",
         "2654",
         "137834"
        ],
        [
         "19",
         "1378",
         "2738",
         "137968"
        ]
       ],
       "shape": {
        "columns": 3,
        "rows": 10
       }
      },
      "text/html": [
       "<div>\n",
       "<style scoped>\n",
       "    .dataframe tbody tr th:only-of-type {\n",
       "        vertical-align: middle;\n",
       "    }\n",
       "\n",
       "    .dataframe tbody tr th {\n",
       "        vertical-align: top;\n",
       "    }\n",
       "\n",
       "    .dataframe thead th {\n",
       "        text-align: right;\n",
       "    }\n",
       "</style>\n",
       "<table border=\"1\" class=\"dataframe\">\n",
       "  <thead>\n",
       "    <tr style=\"text-align: right;\">\n",
       "      <th></th>\n",
       "      <th>week</th>\n",
       "      <th>hours-logged</th>\n",
       "      <th>miles-logged</th>\n",
       "    </tr>\n",
       "    <tr>\n",
       "      <th>driverId</th>\n",
       "      <th></th>\n",
       "      <th></th>\n",
       "      <th></th>\n",
       "    </tr>\n",
       "  </thead>\n",
       "  <tbody>\n",
       "    <tr>\n",
       "      <th>10</th>\n",
       "      <td>1378</td>\n",
       "      <td>3232</td>\n",
       "      <td>147150</td>\n",
       "    </tr>\n",
       "    <tr>\n",
       "      <th>11</th>\n",
       "      <td>1378</td>\n",
       "      <td>3642</td>\n",
       "      <td>179300</td>\n",
       "    </tr>\n",
       "    <tr>\n",
       "      <th>12</th>\n",
       "      <td>1378</td>\n",
       "      <td>2639</td>\n",
       "      <td>135962</td>\n",
       "    </tr>\n",
       "    <tr>\n",
       "      <th>13</th>\n",
       "      <td>1378</td>\n",
       "      <td>2727</td>\n",
       "      <td>134126</td>\n",
       "    </tr>\n",
       "    <tr>\n",
       "      <th>14</th>\n",
       "      <td>1378</td>\n",
       "      <td>2781</td>\n",
       "      <td>136624</td>\n",
       "    </tr>\n",
       "    <tr>\n",
       "      <th>15</th>\n",
       "      <td>1378</td>\n",
       "      <td>2734</td>\n",
       "      <td>138750</td>\n",
       "    </tr>\n",
       "    <tr>\n",
       "      <th>16</th>\n",
       "      <td>1378</td>\n",
       "      <td>2746</td>\n",
       "      <td>137205</td>\n",
       "    </tr>\n",
       "    <tr>\n",
       "      <th>17</th>\n",
       "      <td>1378</td>\n",
       "      <td>2701</td>\n",
       "      <td>135992</td>\n",
       "    </tr>\n",
       "    <tr>\n",
       "      <th>18</th>\n",
       "      <td>1378</td>\n",
       "      <td>2654</td>\n",
       "      <td>137834</td>\n",
       "    </tr>\n",
       "    <tr>\n",
       "      <th>19</th>\n",
       "      <td>1378</td>\n",
       "      <td>2738</td>\n",
       "      <td>137968</td>\n",
       "    </tr>\n",
       "  </tbody>\n",
       "</table>\n",
       "</div>"
      ],
      "text/plain": [
       "          week  hours-logged  miles-logged\n",
       "driverId                                  \n",
       "10        1378          3232        147150\n",
       "11        1378          3642        179300\n",
       "12        1378          2639        135962\n",
       "13        1378          2727        134126\n",
       "14        1378          2781        136624\n",
       "15        1378          2734        138750\n",
       "16        1378          2746        137205\n",
       "17        1378          2701        135992\n",
       "18        1378          2654        137834\n",
       "19        1378          2738        137968"
      ]
     },
     "execution_count": 9,
     "metadata": {},
     "output_type": "execute_result"
    }
   ],
   "source": [
    "# Cómputo de la cantidad de horas y millas de cada conductor por año\n",
    "sum_timesheet = timesheet.groupby(\"driverId\").sum()\n",
    "sum_timesheet.head(10)"
   ]
  },
  {
   "cell_type": "code",
   "execution_count": 10,
   "id": "3f5e63a7",
   "metadata": {},
   "outputs": [
    {
     "data": {
      "application/vnd.microsoft.datawrangler.viewer.v0+json": {
       "columns": [
        {
         "name": "driverId",
         "rawType": "int64",
         "type": "integer"
        },
        {
         "name": "hours-logged",
         "rawType": "int64",
         "type": "integer"
        },
        {
         "name": "miles-logged",
         "rawType": "int64",
         "type": "integer"
        }
       ],
       "ref": "83e9e9cf-917c-4938-a3e4-e971c96699d1",
       "rows": [
        [
         "10",
         "3232",
         "147150"
        ],
        [
         "11",
         "3642",
         "179300"
        ],
        [
         "12",
         "2639",
         "135962"
        ],
        [
         "13",
         "2727",
         "134126"
        ],
        [
         "14",
         "2781",
         "136624"
        ]
       ],
       "shape": {
        "columns": 2,
        "rows": 5
       }
      },
      "text/html": [
       "<div>\n",
       "<style scoped>\n",
       "    .dataframe tbody tr th:only-of-type {\n",
       "        vertical-align: middle;\n",
       "    }\n",
       "\n",
       "    .dataframe tbody tr th {\n",
       "        vertical-align: top;\n",
       "    }\n",
       "\n",
       "    .dataframe thead th {\n",
       "        text-align: right;\n",
       "    }\n",
       "</style>\n",
       "<table border=\"1\" class=\"dataframe\">\n",
       "  <thead>\n",
       "    <tr style=\"text-align: right;\">\n",
       "      <th></th>\n",
       "      <th>hours-logged</th>\n",
       "      <th>miles-logged</th>\n",
       "    </tr>\n",
       "    <tr>\n",
       "      <th>driverId</th>\n",
       "      <th></th>\n",
       "      <th></th>\n",
       "    </tr>\n",
       "  </thead>\n",
       "  <tbody>\n",
       "    <tr>\n",
       "      <th>10</th>\n",
       "      <td>3232</td>\n",
       "      <td>147150</td>\n",
       "    </tr>\n",
       "    <tr>\n",
       "      <th>11</th>\n",
       "      <td>3642</td>\n",
       "      <td>179300</td>\n",
       "    </tr>\n",
       "    <tr>\n",
       "      <th>12</th>\n",
       "      <td>2639</td>\n",
       "      <td>135962</td>\n",
       "    </tr>\n",
       "    <tr>\n",
       "      <th>13</th>\n",
       "      <td>2727</td>\n",
       "      <td>134126</td>\n",
       "    </tr>\n",
       "    <tr>\n",
       "      <th>14</th>\n",
       "      <td>2781</td>\n",
       "      <td>136624</td>\n",
       "    </tr>\n",
       "  </tbody>\n",
       "</table>\n",
       "</div>"
      ],
      "text/plain": [
       "          hours-logged  miles-logged\n",
       "driverId                            \n",
       "10                3232        147150\n",
       "11                3642        179300\n",
       "12                2639        135962\n",
       "13                2727        134126\n",
       "14                2781        136624"
      ]
     },
     "execution_count": 10,
     "metadata": {},
     "output_type": "execute_result"
    }
   ],
   "source": [
    "sum_timesheet = sum_timesheet[[\"hours-logged\", \"miles-logged\"]]\n",
    "sum_timesheet.head()"
   ]
  },
  {
   "cell_type": "code",
   "execution_count": 15,
   "id": "2e323f66",
   "metadata": {},
   "outputs": [
    {
     "data": {
      "application/vnd.microsoft.datawrangler.viewer.v0+json": {
       "columns": [
        {
         "name": "driverId",
         "rawType": "int64",
         "type": "integer"
        },
        {
         "name": "min",
         "rawType": "int64",
         "type": "integer"
        },
        {
         "name": "max",
         "rawType": "int64",
         "type": "integer"
        }
       ],
       "ref": "d9515202-4091-4fb9-8ebc-b55cce785ddb",
       "rows": [
        [
         "10",
         "0",
         "76"
        ],
        [
         "11",
         "0",
         "92"
        ],
        [
         "12",
         "0",
         "60"
        ],
        [
         "13",
         "10",
         "60"
        ],
        [
         "14",
         "45",
         "60"
        ],
        [
         "15",
         "45",
         "60"
        ],
        [
         "16",
         "45",
         "60"
        ],
        [
         "17",
         "20",
         "60"
        ],
        [
         "18",
         "45",
         "60"
        ],
        [
         "19",
         "45",
         "60"
        ],
        [
         "20",
         "0",
         "60"
        ],
        [
         "21",
         "45",
         "60"
        ],
        [
         "22",
         "45",
         "60"
        ],
        [
         "23",
         "45",
         "60"
        ],
        [
         "24",
         "0",
         "60"
        ],
        [
         "25",
         "45",
         "60"
        ],
        [
         "26",
         "45",
         "60"
        ],
        [
         "27",
         "45",
         "60"
        ],
        [
         "28",
         "45",
         "60"
        ],
        [
         "29",
         "45",
         "60"
        ],
        [
         "30",
         "45",
         "60"
        ],
        [
         "31",
         "45",
         "60"
        ],
        [
         "32",
         "45",
         "60"
        ],
        [
         "33",
         "46",
         "60"
        ],
        [
         "34",
         "45",
         "60"
        ],
        [
         "35",
         "45",
         "60"
        ],
        [
         "36",
         "45",
         "60"
        ],
        [
         "37",
         "45",
         "59"
        ],
        [
         "38",
         "45",
         "60"
        ],
        [
         "39",
         "45",
         "60"
        ],
        [
         "40",
         "45",
         "60"
        ],
        [
         "41",
         "45",
         "60"
        ],
        [
         "42",
         "45",
         "60"
        ],
        [
         "43",
         "46",
         "60"
        ]
       ],
       "shape": {
        "columns": 2,
        "rows": 34
       }
      },
      "text/html": [
       "<div>\n",
       "<style scoped>\n",
       "    .dataframe tbody tr th:only-of-type {\n",
       "        vertical-align: middle;\n",
       "    }\n",
       "\n",
       "    .dataframe tbody tr th {\n",
       "        vertical-align: top;\n",
       "    }\n",
       "\n",
       "    .dataframe thead th {\n",
       "        text-align: right;\n",
       "    }\n",
       "</style>\n",
       "<table border=\"1\" class=\"dataframe\">\n",
       "  <thead>\n",
       "    <tr style=\"text-align: right;\">\n",
       "      <th></th>\n",
       "      <th>min</th>\n",
       "      <th>max</th>\n",
       "    </tr>\n",
       "    <tr>\n",
       "      <th>driverId</th>\n",
       "      <th></th>\n",
       "      <th></th>\n",
       "    </tr>\n",
       "  </thead>\n",
       "  <tbody>\n",
       "    <tr>\n",
       "      <th>10</th>\n",
       "      <td>0</td>\n",
       "      <td>76</td>\n",
       "    </tr>\n",
       "    <tr>\n",
       "      <th>11</th>\n",
       "      <td>0</td>\n",
       "      <td>92</td>\n",
       "    </tr>\n",
       "    <tr>\n",
       "      <th>12</th>\n",
       "      <td>0</td>\n",
       "      <td>60</td>\n",
       "    </tr>\n",
       "    <tr>\n",
       "      <th>13</th>\n",
       "      <td>10</td>\n",
       "      <td>60</td>\n",
       "    </tr>\n",
       "    <tr>\n",
       "      <th>14</th>\n",
       "      <td>45</td>\n",
       "      <td>60</td>\n",
       "    </tr>\n",
       "    <tr>\n",
       "      <th>15</th>\n",
       "      <td>45</td>\n",
       "      <td>60</td>\n",
       "    </tr>\n",
       "    <tr>\n",
       "      <th>16</th>\n",
       "      <td>45</td>\n",
       "      <td>60</td>\n",
       "    </tr>\n",
       "    <tr>\n",
       "      <th>17</th>\n",
       "      <td>20</td>\n",
       "      <td>60</td>\n",
       "    </tr>\n",
       "    <tr>\n",
       "      <th>18</th>\n",
       "      <td>45</td>\n",
       "      <td>60</td>\n",
       "    </tr>\n",
       "    <tr>\n",
       "      <th>19</th>\n",
       "      <td>45</td>\n",
       "      <td>60</td>\n",
       "    </tr>\n",
       "    <tr>\n",
       "      <th>20</th>\n",
       "      <td>0</td>\n",
       "      <td>60</td>\n",
       "    </tr>\n",
       "    <tr>\n",
       "      <th>21</th>\n",
       "      <td>45</td>\n",
       "      <td>60</td>\n",
       "    </tr>\n",
       "    <tr>\n",
       "      <th>22</th>\n",
       "      <td>45</td>\n",
       "      <td>60</td>\n",
       "    </tr>\n",
       "    <tr>\n",
       "      <th>23</th>\n",
       "      <td>45</td>\n",
       "      <td>60</td>\n",
       "    </tr>\n",
       "    <tr>\n",
       "      <th>24</th>\n",
       "      <td>0</td>\n",
       "      <td>60</td>\n",
       "    </tr>\n",
       "    <tr>\n",
       "      <th>25</th>\n",
       "      <td>45</td>\n",
       "      <td>60</td>\n",
       "    </tr>\n",
       "    <tr>\n",
       "      <th>26</th>\n",
       "      <td>45</td>\n",
       "      <td>60</td>\n",
       "    </tr>\n",
       "    <tr>\n",
       "      <th>27</th>\n",
       "      <td>45</td>\n",
       "      <td>60</td>\n",
       "    </tr>\n",
       "    <tr>\n",
       "      <th>28</th>\n",
       "      <td>45</td>\n",
       "      <td>60</td>\n",
       "    </tr>\n",
       "    <tr>\n",
       "      <th>29</th>\n",
       "      <td>45</td>\n",
       "      <td>60</td>\n",
       "    </tr>\n",
       "    <tr>\n",
       "      <th>30</th>\n",
       "      <td>45</td>\n",
       "      <td>60</td>\n",
       "    </tr>\n",
       "    <tr>\n",
       "      <th>31</th>\n",
       "      <td>45</td>\n",
       "      <td>60</td>\n",
       "    </tr>\n",
       "    <tr>\n",
       "      <th>32</th>\n",
       "      <td>45</td>\n",
       "      <td>60</td>\n",
       "    </tr>\n",
       "    <tr>\n",
       "      <th>33</th>\n",
       "      <td>46</td>\n",
       "      <td>60</td>\n",
       "    </tr>\n",
       "    <tr>\n",
       "      <th>34</th>\n",
       "      <td>45</td>\n",
       "      <td>60</td>\n",
       "    </tr>\n",
       "    <tr>\n",
       "      <th>35</th>\n",
       "      <td>45</td>\n",
       "      <td>60</td>\n",
       "    </tr>\n",
       "    <tr>\n",
       "      <th>36</th>\n",
       "      <td>45</td>\n",
       "      <td>60</td>\n",
       "    </tr>\n",
       "    <tr>\n",
       "      <th>37</th>\n",
       "      <td>45</td>\n",
       "      <td>59</td>\n",
       "    </tr>\n",
       "    <tr>\n",
       "      <th>38</th>\n",
       "      <td>45</td>\n",
       "      <td>60</td>\n",
       "    </tr>\n",
       "    <tr>\n",
       "      <th>39</th>\n",
       "      <td>45</td>\n",
       "      <td>60</td>\n",
       "    </tr>\n",
       "    <tr>\n",
       "      <th>40</th>\n",
       "      <td>45</td>\n",
       "      <td>60</td>\n",
       "    </tr>\n",
       "    <tr>\n",
       "      <th>41</th>\n",
       "      <td>45</td>\n",
       "      <td>60</td>\n",
       "    </tr>\n",
       "    <tr>\n",
       "      <th>42</th>\n",
       "      <td>45</td>\n",
       "      <td>60</td>\n",
       "    </tr>\n",
       "    <tr>\n",
       "      <th>43</th>\n",
       "      <td>46</td>\n",
       "      <td>60</td>\n",
       "    </tr>\n",
       "  </tbody>\n",
       "</table>\n",
       "</div>"
      ],
      "text/plain": [
       "          min  max\n",
       "driverId          \n",
       "10          0   76\n",
       "11          0   92\n",
       "12          0   60\n",
       "13         10   60\n",
       "14         45   60\n",
       "15         45   60\n",
       "16         45   60\n",
       "17         20   60\n",
       "18         45   60\n",
       "19         45   60\n",
       "20          0   60\n",
       "21         45   60\n",
       "22         45   60\n",
       "23         45   60\n",
       "24          0   60\n",
       "25         45   60\n",
       "26         45   60\n",
       "27         45   60\n",
       "28         45   60\n",
       "29         45   60\n",
       "30         45   60\n",
       "31         45   60\n",
       "32         45   60\n",
       "33         46   60\n",
       "34         45   60\n",
       "35         45   60\n",
       "36         45   60\n",
       "37         45   59\n",
       "38         45   60\n",
       "39         45   60\n",
       "40         45   60\n",
       "41         45   60\n",
       "42         45   60\n",
       "43         46   60"
      ]
     },
     "execution_count": 15,
     "metadata": {},
     "output_type": "execute_result"
    }
   ],
   "source": [
    "timesheet.groupby(\"driverId\")[\"hours-logged\"].agg([\"min\", \"max\"])"
   ]
  },
  {
   "cell_type": "code",
   "execution_count": 16,
   "id": "23ec343a",
   "metadata": {},
   "outputs": [
    {
     "data": {
      "application/vnd.microsoft.datawrangler.viewer.v0+json": {
       "columns": [
        {
         "name": "index",
         "rawType": "int64",
         "type": "integer"
        },
        {
         "name": "driverId",
         "rawType": "int64",
         "type": "integer"
        },
        {
         "name": "hours-logged",
         "rawType": "int64",
         "type": "integer"
        },
        {
         "name": "miles-logged",
         "rawType": "int64",
         "type": "integer"
        },
        {
         "name": "name",
         "rawType": "object",
         "type": "string"
        }
       ],
       "ref": "9207c664-631f-4936-a7e8-ef61aba85377",
       "rows": [
        [
         "0",
         "10",
         "3232",
         "147150",
         "George Vetticaden"
        ],
        [
         "1",
         "11",
         "3642",
         "179300",
         "Jamie Engesser"
        ],
        [
         "2",
         "12",
         "2639",
         "135962",
         "Paul Coddin"
        ],
        [
         "3",
         "13",
         "2727",
         "134126",
         "Joe Niemiec"
        ],
        [
         "4",
         "14",
         "2781",
         "136624",
         "Adis Cesir"
        ],
        [
         "5",
         "15",
         "2734",
         "138750",
         "Rohit Bakshi"
        ],
        [
         "6",
         "16",
         "2746",
         "137205",
         "Tom McCuch"
        ],
        [
         "7",
         "17",
         "2701",
         "135992",
         "Eric Mizell"
        ],
        [
         "8",
         "18",
         "2654",
         "137834",
         "Grant Liu"
        ],
        [
         "9",
         "19",
         "2738",
         "137968",
         "Ajay Singh"
        ],
        [
         "10",
         "20",
         "2644",
         "134564",
         "Chris Harris"
        ],
        [
         "11",
         "21",
         "2751",
         "138719",
         "Jeff Markham"
        ],
        [
         "12",
         "22",
         "2733",
         "137550",
         "Nadeem Asghar"
        ],
        [
         "13",
         "23",
         "2750",
         "137980",
         "Adam Diaz"
        ],
        [
         "14",
         "24",
         "2647",
         "134461",
         "Don Hilborn"
        ],
        [
         "15",
         "25",
         "2723",
         "139180",
         "Jean-Philippe Playe"
        ],
        [
         "16",
         "26",
         "2730",
         "137530",
         "Michael Aube"
        ],
        [
         "17",
         "27",
         "2771",
         "137922",
         "Mark Lochbihler"
        ],
        [
         "18",
         "28",
         "2723",
         "137469",
         "Olivier Renault"
        ],
        [
         "19",
         "29",
         "2760",
         "138255",
         "Teddy Choi"
        ],
        [
         "20",
         "30",
         "2773",
         "137473",
         "Dan Rice"
        ],
        [
         "21",
         "31",
         "2704",
         "137057",
         "Rommel Garcia"
        ],
        [
         "22",
         "32",
         "2736",
         "137422",
         "Ryan Templeton"
        ],
        [
         "23",
         "33",
         "2759",
         "139285",
         "Sridhara Sabbella"
        ],
        [
         "24",
         "34",
         "2811",
         "137728",
         "Frank Romano"
        ],
        [
         "25",
         "35",
         "2728",
         "138727",
         "Emil Siemes"
        ],
        [
         "26",
         "36",
         "2795",
         "138025",
         "Andrew Grande"
        ],
        [
         "27",
         "37",
         "2694",
         "137223",
         "Wes Floyd"
        ],
        [
         "28",
         "38",
         "2760",
         "137464",
         "Scott Shaw"
        ],
        [
         "29",
         "39",
         "2745",
         "138788",
         "David Kaiser"
        ],
        [
         "30",
         "40",
         "2700",
         "136931",
         "Nicolas Maillard"
        ],
        [
         "31",
         "41",
         "2723",
         "138407",
         "Greg Phillips"
        ],
        [
         "32",
         "42",
         "2697",
         "136673",
         "Randy Gelhausen"
        ],
        [
         "33",
         "43",
         "2750",
         "136993",
         "Dave Patton"
        ]
       ],
       "shape": {
        "columns": 4,
        "rows": 34
       }
      },
      "text/html": [
       "<div>\n",
       "<style scoped>\n",
       "    .dataframe tbody tr th:only-of-type {\n",
       "        vertical-align: middle;\n",
       "    }\n",
       "\n",
       "    .dataframe tbody tr th {\n",
       "        vertical-align: top;\n",
       "    }\n",
       "\n",
       "    .dataframe thead th {\n",
       "        text-align: right;\n",
       "    }\n",
       "</style>\n",
       "<table border=\"1\" class=\"dataframe\">\n",
       "  <thead>\n",
       "    <tr style=\"text-align: right;\">\n",
       "      <th></th>\n",
       "      <th>driverId</th>\n",
       "      <th>hours-logged</th>\n",
       "      <th>miles-logged</th>\n",
       "      <th>name</th>\n",
       "    </tr>\n",
       "  </thead>\n",
       "  <tbody>\n",
       "    <tr>\n",
       "      <th>0</th>\n",
       "      <td>10</td>\n",
       "      <td>3232</td>\n",
       "      <td>147150</td>\n",
       "      <td>George Vetticaden</td>\n",
       "    </tr>\n",
       "    <tr>\n",
       "      <th>1</th>\n",
       "      <td>11</td>\n",
       "      <td>3642</td>\n",
       "      <td>179300</td>\n",
       "      <td>Jamie Engesser</td>\n",
       "    </tr>\n",
       "    <tr>\n",
       "      <th>2</th>\n",
       "      <td>12</td>\n",
       "      <td>2639</td>\n",
       "      <td>135962</td>\n",
       "      <td>Paul Coddin</td>\n",
       "    </tr>\n",
       "    <tr>\n",
       "      <th>3</th>\n",
       "      <td>13</td>\n",
       "      <td>2727</td>\n",
       "      <td>134126</td>\n",
       "      <td>Joe Niemiec</td>\n",
       "    </tr>\n",
       "    <tr>\n",
       "      <th>4</th>\n",
       "      <td>14</td>\n",
       "      <td>2781</td>\n",
       "      <td>136624</td>\n",
       "      <td>Adis Cesir</td>\n",
       "    </tr>\n",
       "    <tr>\n",
       "      <th>5</th>\n",
       "      <td>15</td>\n",
       "      <td>2734</td>\n",
       "      <td>138750</td>\n",
       "      <td>Rohit Bakshi</td>\n",
       "    </tr>\n",
       "    <tr>\n",
       "      <th>6</th>\n",
       "      <td>16</td>\n",
       "      <td>2746</td>\n",
       "      <td>137205</td>\n",
       "      <td>Tom McCuch</td>\n",
       "    </tr>\n",
       "    <tr>\n",
       "      <th>7</th>\n",
       "      <td>17</td>\n",
       "      <td>2701</td>\n",
       "      <td>135992</td>\n",
       "      <td>Eric Mizell</td>\n",
       "    </tr>\n",
       "    <tr>\n",
       "      <th>8</th>\n",
       "      <td>18</td>\n",
       "      <td>2654</td>\n",
       "      <td>137834</td>\n",
       "      <td>Grant Liu</td>\n",
       "    </tr>\n",
       "    <tr>\n",
       "      <th>9</th>\n",
       "      <td>19</td>\n",
       "      <td>2738</td>\n",
       "      <td>137968</td>\n",
       "      <td>Ajay Singh</td>\n",
       "    </tr>\n",
       "    <tr>\n",
       "      <th>10</th>\n",
       "      <td>20</td>\n",
       "      <td>2644</td>\n",
       "      <td>134564</td>\n",
       "      <td>Chris Harris</td>\n",
       "    </tr>\n",
       "    <tr>\n",
       "      <th>11</th>\n",
       "      <td>21</td>\n",
       "      <td>2751</td>\n",
       "      <td>138719</td>\n",
       "      <td>Jeff Markham</td>\n",
       "    </tr>\n",
       "    <tr>\n",
       "      <th>12</th>\n",
       "      <td>22</td>\n",
       "      <td>2733</td>\n",
       "      <td>137550</td>\n",
       "      <td>Nadeem Asghar</td>\n",
       "    </tr>\n",
       "    <tr>\n",
       "      <th>13</th>\n",
       "      <td>23</td>\n",
       "      <td>2750</td>\n",
       "      <td>137980</td>\n",
       "      <td>Adam Diaz</td>\n",
       "    </tr>\n",
       "    <tr>\n",
       "      <th>14</th>\n",
       "      <td>24</td>\n",
       "      <td>2647</td>\n",
       "      <td>134461</td>\n",
       "      <td>Don Hilborn</td>\n",
       "    </tr>\n",
       "    <tr>\n",
       "      <th>15</th>\n",
       "      <td>25</td>\n",
       "      <td>2723</td>\n",
       "      <td>139180</td>\n",
       "      <td>Jean-Philippe Playe</td>\n",
       "    </tr>\n",
       "    <tr>\n",
       "      <th>16</th>\n",
       "      <td>26</td>\n",
       "      <td>2730</td>\n",
       "      <td>137530</td>\n",
       "      <td>Michael Aube</td>\n",
       "    </tr>\n",
       "    <tr>\n",
       "      <th>17</th>\n",
       "      <td>27</td>\n",
       "      <td>2771</td>\n",
       "      <td>137922</td>\n",
       "      <td>Mark Lochbihler</td>\n",
       "    </tr>\n",
       "    <tr>\n",
       "      <th>18</th>\n",
       "      <td>28</td>\n",
       "      <td>2723</td>\n",
       "      <td>137469</td>\n",
       "      <td>Olivier Renault</td>\n",
       "    </tr>\n",
       "    <tr>\n",
       "      <th>19</th>\n",
       "      <td>29</td>\n",
       "      <td>2760</td>\n",
       "      <td>138255</td>\n",
       "      <td>Teddy Choi</td>\n",
       "    </tr>\n",
       "    <tr>\n",
       "      <th>20</th>\n",
       "      <td>30</td>\n",
       "      <td>2773</td>\n",
       "      <td>137473</td>\n",
       "      <td>Dan Rice</td>\n",
       "    </tr>\n",
       "    <tr>\n",
       "      <th>21</th>\n",
       "      <td>31</td>\n",
       "      <td>2704</td>\n",
       "      <td>137057</td>\n",
       "      <td>Rommel Garcia</td>\n",
       "    </tr>\n",
       "    <tr>\n",
       "      <th>22</th>\n",
       "      <td>32</td>\n",
       "      <td>2736</td>\n",
       "      <td>137422</td>\n",
       "      <td>Ryan Templeton</td>\n",
       "    </tr>\n",
       "    <tr>\n",
       "      <th>23</th>\n",
       "      <td>33</td>\n",
       "      <td>2759</td>\n",
       "      <td>139285</td>\n",
       "      <td>Sridhara Sabbella</td>\n",
       "    </tr>\n",
       "    <tr>\n",
       "      <th>24</th>\n",
       "      <td>34</td>\n",
       "      <td>2811</td>\n",
       "      <td>137728</td>\n",
       "      <td>Frank Romano</td>\n",
       "    </tr>\n",
       "    <tr>\n",
       "      <th>25</th>\n",
       "      <td>35</td>\n",
       "      <td>2728</td>\n",
       "      <td>138727</td>\n",
       "      <td>Emil Siemes</td>\n",
       "    </tr>\n",
       "    <tr>\n",
       "      <th>26</th>\n",
       "      <td>36</td>\n",
       "      <td>2795</td>\n",
       "      <td>138025</td>\n",
       "      <td>Andrew Grande</td>\n",
       "    </tr>\n",
       "    <tr>\n",
       "      <th>27</th>\n",
       "      <td>37</td>\n",
       "      <td>2694</td>\n",
       "      <td>137223</td>\n",
       "      <td>Wes Floyd</td>\n",
       "    </tr>\n",
       "    <tr>\n",
       "      <th>28</th>\n",
       "      <td>38</td>\n",
       "      <td>2760</td>\n",
       "      <td>137464</td>\n",
       "      <td>Scott Shaw</td>\n",
       "    </tr>\n",
       "    <tr>\n",
       "      <th>29</th>\n",
       "      <td>39</td>\n",
       "      <td>2745</td>\n",
       "      <td>138788</td>\n",
       "      <td>David Kaiser</td>\n",
       "    </tr>\n",
       "    <tr>\n",
       "      <th>30</th>\n",
       "      <td>40</td>\n",
       "      <td>2700</td>\n",
       "      <td>136931</td>\n",
       "      <td>Nicolas Maillard</td>\n",
       "    </tr>\n",
       "    <tr>\n",
       "      <th>31</th>\n",
       "      <td>41</td>\n",
       "      <td>2723</td>\n",
       "      <td>138407</td>\n",
       "      <td>Greg Phillips</td>\n",
       "    </tr>\n",
       "    <tr>\n",
       "      <th>32</th>\n",
       "      <td>42</td>\n",
       "      <td>2697</td>\n",
       "      <td>136673</td>\n",
       "      <td>Randy Gelhausen</td>\n",
       "    </tr>\n",
       "    <tr>\n",
       "      <th>33</th>\n",
       "      <td>43</td>\n",
       "      <td>2750</td>\n",
       "      <td>136993</td>\n",
       "      <td>Dave Patton</td>\n",
       "    </tr>\n",
       "  </tbody>\n",
       "</table>\n",
       "</div>"
      ],
      "text/plain": [
       "    driverId  hours-logged  miles-logged                 name\n",
       "0         10          3232        147150    George Vetticaden\n",
       "1         11          3642        179300       Jamie Engesser\n",
       "2         12          2639        135962          Paul Coddin\n",
       "3         13          2727        134126          Joe Niemiec\n",
       "4         14          2781        136624           Adis Cesir\n",
       "5         15          2734        138750         Rohit Bakshi\n",
       "6         16          2746        137205           Tom McCuch\n",
       "7         17          2701        135992          Eric Mizell\n",
       "8         18          2654        137834            Grant Liu\n",
       "9         19          2738        137968           Ajay Singh\n",
       "10        20          2644        134564         Chris Harris\n",
       "11        21          2751        138719         Jeff Markham\n",
       "12        22          2733        137550        Nadeem Asghar\n",
       "13        23          2750        137980            Adam Diaz\n",
       "14        24          2647        134461          Don Hilborn\n",
       "15        25          2723        139180  Jean-Philippe Playe\n",
       "16        26          2730        137530         Michael Aube\n",
       "17        27          2771        137922      Mark Lochbihler\n",
       "18        28          2723        137469      Olivier Renault\n",
       "19        29          2760        138255           Teddy Choi\n",
       "20        30          2773        137473             Dan Rice\n",
       "21        31          2704        137057        Rommel Garcia\n",
       "22        32          2736        137422       Ryan Templeton\n",
       "23        33          2759        139285    Sridhara Sabbella\n",
       "24        34          2811        137728         Frank Romano\n",
       "25        35          2728        138727          Emil Siemes\n",
       "26        36          2795        138025        Andrew Grande\n",
       "27        37          2694        137223            Wes Floyd\n",
       "28        38          2760        137464           Scott Shaw\n",
       "29        39          2745        138788         David Kaiser\n",
       "30        40          2700        136931     Nicolas Maillard\n",
       "31        41          2723        138407        Greg Phillips\n",
       "32        42          2697        136673      Randy Gelhausen\n",
       "33        43          2750        136993          Dave Patton"
      ]
     },
     "execution_count": 16,
     "metadata": {},
     "output_type": "execute_result"
    }
   ],
   "source": [
    "# Unión de las tablas usando join\n",
    "summary = pd.merge(\n",
    "    sum_timesheet,\n",
    "    drivers[[\"driverId\", \"name\"]],\n",
    "    on=\"driverId\",\n",
    ")\n",
    "summary"
   ]
  },
  {
   "cell_type": "code",
   "execution_count": 17,
   "id": "93d7151f",
   "metadata": {},
   "outputs": [],
   "source": [
    "# Almacenamiento de los resultados\n",
    "import os\n",
    "\n",
    "if not os.path.exists(\"../files/output\"):\n",
    "    os.makedirs(\"../files/output\")\n",
    "\n",
    "summary.to_csv(\n",
    "    \"../files/output/summary.csv\",\n",
    "    sep=\",\",\n",
    "    header=True,\n",
    "    index=False,\n",
    ")"
   ]
  },
  {
   "cell_type": "code",
   "execution_count": 18,
   "id": "a49e9e7e",
   "metadata": {},
   "outputs": [
    {
     "data": {
      "application/vnd.microsoft.datawrangler.viewer.v0+json": {
       "columns": [
        {
         "name": "index",
         "rawType": "int64",
         "type": "integer"
        },
        {
         "name": "driverId",
         "rawType": "int64",
         "type": "integer"
        },
        {
         "name": "hours-logged",
         "rawType": "int64",
         "type": "integer"
        },
        {
         "name": "miles-logged",
         "rawType": "int64",
         "type": "integer"
        },
        {
         "name": "name",
         "rawType": "object",
         "type": "string"
        }
       ],
       "ref": "b0e61390-975d-4f84-b6a7-a53583e4cc5e",
       "rows": [
        [
         "1",
         "11",
         "3642",
         "179300",
         "Jamie Engesser"
        ],
        [
         "0",
         "10",
         "3232",
         "147150",
         "George Vetticaden"
        ],
        [
         "23",
         "33",
         "2759",
         "139285",
         "Sridhara Sabbella"
        ],
        [
         "15",
         "25",
         "2723",
         "139180",
         "Jean-Philippe Playe"
        ],
        [
         "29",
         "39",
         "2745",
         "138788",
         "David Kaiser"
        ],
        [
         "5",
         "15",
         "2734",
         "138750",
         "Rohit Bakshi"
        ],
        [
         "25",
         "35",
         "2728",
         "138727",
         "Emil Siemes"
        ],
        [
         "11",
         "21",
         "2751",
         "138719",
         "Jeff Markham"
        ],
        [
         "31",
         "41",
         "2723",
         "138407",
         "Greg Phillips"
        ],
        [
         "19",
         "29",
         "2760",
         "138255",
         "Teddy Choi"
        ]
       ],
       "shape": {
        "columns": 4,
        "rows": 10
       }
      },
      "text/html": [
       "<div>\n",
       "<style scoped>\n",
       "    .dataframe tbody tr th:only-of-type {\n",
       "        vertical-align: middle;\n",
       "    }\n",
       "\n",
       "    .dataframe tbody tr th {\n",
       "        vertical-align: top;\n",
       "    }\n",
       "\n",
       "    .dataframe thead th {\n",
       "        text-align: right;\n",
       "    }\n",
       "</style>\n",
       "<table border=\"1\" class=\"dataframe\">\n",
       "  <thead>\n",
       "    <tr style=\"text-align: right;\">\n",
       "      <th></th>\n",
       "      <th>driverId</th>\n",
       "      <th>hours-logged</th>\n",
       "      <th>miles-logged</th>\n",
       "      <th>name</th>\n",
       "    </tr>\n",
       "  </thead>\n",
       "  <tbody>\n",
       "    <tr>\n",
       "      <th>1</th>\n",
       "      <td>11</td>\n",
       "      <td>3642</td>\n",
       "      <td>179300</td>\n",
       "      <td>Jamie Engesser</td>\n",
       "    </tr>\n",
       "    <tr>\n",
       "      <th>0</th>\n",
       "      <td>10</td>\n",
       "      <td>3232</td>\n",
       "      <td>147150</td>\n",
       "      <td>George Vetticaden</td>\n",
       "    </tr>\n",
       "    <tr>\n",
       "      <th>23</th>\n",
       "      <td>33</td>\n",
       "      <td>2759</td>\n",
       "      <td>139285</td>\n",
       "      <td>Sridhara Sabbella</td>\n",
       "    </tr>\n",
       "    <tr>\n",
       "      <th>15</th>\n",
       "      <td>25</td>\n",
       "      <td>2723</td>\n",
       "      <td>139180</td>\n",
       "      <td>Jean-Philippe Playe</td>\n",
       "    </tr>\n",
       "    <tr>\n",
       "      <th>29</th>\n",
       "      <td>39</td>\n",
       "      <td>2745</td>\n",
       "      <td>138788</td>\n",
       "      <td>David Kaiser</td>\n",
       "    </tr>\n",
       "    <tr>\n",
       "      <th>5</th>\n",
       "      <td>15</td>\n",
       "      <td>2734</td>\n",
       "      <td>138750</td>\n",
       "      <td>Rohit Bakshi</td>\n",
       "    </tr>\n",
       "    <tr>\n",
       "      <th>25</th>\n",
       "      <td>35</td>\n",
       "      <td>2728</td>\n",
       "      <td>138727</td>\n",
       "      <td>Emil Siemes</td>\n",
       "    </tr>\n",
       "    <tr>\n",
       "      <th>11</th>\n",
       "      <td>21</td>\n",
       "      <td>2751</td>\n",
       "      <td>138719</td>\n",
       "      <td>Jeff Markham</td>\n",
       "    </tr>\n",
       "    <tr>\n",
       "      <th>31</th>\n",
       "      <td>41</td>\n",
       "      <td>2723</td>\n",
       "      <td>138407</td>\n",
       "      <td>Greg Phillips</td>\n",
       "    </tr>\n",
       "    <tr>\n",
       "      <th>19</th>\n",
       "      <td>29</td>\n",
       "      <td>2760</td>\n",
       "      <td>138255</td>\n",
       "      <td>Teddy Choi</td>\n",
       "    </tr>\n",
       "  </tbody>\n",
       "</table>\n",
       "</div>"
      ],
      "text/plain": [
       "    driverId  hours-logged  miles-logged                 name\n",
       "1         11          3642        179300       Jamie Engesser\n",
       "0         10          3232        147150    George Vetticaden\n",
       "23        33          2759        139285    Sridhara Sabbella\n",
       "15        25          2723        139180  Jean-Philippe Playe\n",
       "29        39          2745        138788         David Kaiser\n",
       "5         15          2734        138750         Rohit Bakshi\n",
       "25        35          2728        138727          Emil Siemes\n",
       "11        21          2751        138719         Jeff Markham\n",
       "31        41          2723        138407        Greg Phillips\n",
       "19        29          2760        138255           Teddy Choi"
      ]
     },
     "execution_count": 18,
     "metadata": {},
     "output_type": "execute_result"
    }
   ],
   "source": [
    "# Ordenamiento por la cantidad de millas registradas\n",
    "top10 = summary.sort_values(by=\"miles-logged\", ascending=False).head(10)\n",
    "top10"
   ]
  },
  {
   "cell_type": "code",
   "execution_count": 22,
   "id": "d760d36d",
   "metadata": {},
   "outputs": [
    {
     "data": {
      "image/png": "[encoded data removed]",
      "text/plain": [
       "<Figure size 640x480 with 1 Axes>"
      ]
     },
     "metadata": {},
     "output_type": "display_data"
    }
   ],
   "source": [
    "# Creación de un gráfico de barras horizontales\n",
    "# La columna 'name' pasa a ser el nombre de las filas\n",
    "top10 = summary.sort_values(by=\"miles-logged\", ascending=False).head(10)\n",
    "top10 = top10.set_index(\"name\")\n",
    "\n",
    "# Paleta de colores:\n",
    "#   tab:blue     tab:red       tab:pink\n",
    "#   tab:orange   tab:purple    tab:gray\n",
    "#   tab:green    tab:brown     tab:olive\n",
    "#   tab:cyan\n",
    "top10[\"miles-logged\"].plot.barh(color=\"tab:red\", alpha=1.0)\n",
    "\n",
    "plt.gca().invert_yaxis()\n",
    "\n",
    "plt.gca().get_xaxis().set_major_formatter(\n",
    "    matplotlib.ticker.FuncFormatter(lambda x, p: format(int(x), \",\"))\n",
    ")\n",
    "\n",
    "plt.xticks(rotation=90)\n",
    "\n",
    "plt.gca().spines[\"left\"].set_color(\"lightgray\")\n",
    "plt.gca().spines[\"bottom\"].set_color(\"gray\")\n",
    "plt.gca().spines[\"top\"].set_visible(False)\n",
    "plt.gca().spines[\"right\"].set_visible(False)\n",
    "\n",
    "if not os.path.exists(\"../files/plots\"):\n",
    "    os.makedirs(\"../files/plots\")\n",
    "\n",
    "plt.savefig(\"../files/plots/top10_drivers.png\", bbox_inches=\"tight\")"
   ]
  }
 ],
 "metadata": {
  "kernelspec": {
   "display_name": ".venv",
   "language": "python",
   "name": "python3"
  },
  "language_info": {
   "codemirror_mode": {
    "name": "ipython",
    "version": 3
   },
   "file_extension": ".py",
   "mimetype": "text/x-python",
   "name": "python",
   "nbconvert_exporter": "python",
   "pygments_lexer": "ipython3",
   "version": "3.13.3"
  }
 },
 "nbformat": 4,
 "nbformat_minor": 5
}
